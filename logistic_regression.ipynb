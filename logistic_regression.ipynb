{
  "nbformat": 4,
  "nbformat_minor": 0,
  "metadata": {
    "colab": {
      "name": "logistic_regression.ipynb",
      "provenance": [],
      "collapsed_sections": []
    },
    "kernelspec": {
      "name": "python3",
      "display_name": "Python 3"
    },
    "language_info": {
      "name": "python"
    }
  },
  "cells": [
    {
      "cell_type": "markdown",
      "metadata": {
        "id": "IPuMkLzVSS5v"
      },
      "source": [
        "#Logistic Regression Algorithm\n",
        "#Name: Mohammed Abdul Moyeed\n",
        "#Z-id: Z1912165"
      ]
    },
    {
      "cell_type": "markdown",
      "metadata": {
        "id": "9fLPNd84zPST"
      },
      "source": [
        "#Importing required libraries"
      ]
    },
    {
      "cell_type": "code",
      "metadata": {
        "id": "eO8zwYzvzT9o"
      },
      "source": [
        "import numpy as np\n",
        "import matplotlib.pyplot as plt\n",
        "from math import log,exp;\n",
        "import matplotlib.patches as mpatches\n",
        "from collections import defaultdict\n",
        "from sklearn.linear_model import LogisticRegression"
      ],
      "execution_count": null,
      "outputs": []
    },
    {
      "cell_type": "markdown",
      "metadata": {
        "id": "ZqKPmsXNUB56"
      },
      "source": [
        "#Defining all the required functions"
      ]
    },
    {
      "cell_type": "code",
      "metadata": {
        "id": "olTvkQJQSOcx"
      },
      "source": [
        "#This function generates the data to be used for the logistic regression Algorithm\n",
        "def generate_data():\n",
        "  np.random.seed(12)\n",
        "  num_observations = 5000\n",
        "\n",
        "  class1 = np.random.multivariate_normal( [0,0],[[1,.75],[.75,1]],num_observations)\n",
        "  class2 = np.random.multivariate_normal( [1,4  ],[[1,.75],[.75,1]],num_observations)\n",
        "\n",
        "  features = np.vstack((class1,class2)).astype(np.float32)\n",
        "  labels = np.hstack((np.full(num_observations,-1),np.ones(num_observations)))\n",
        "  return features,labels\n",
        "\n",
        "# the features are plotted over a scatterplot with legends and title.\n",
        "def scatter_plot(features,labels,title):\n",
        "  plt.scatter([feature[0] for feature in features],[feature[1] for feature in features], s = [-label+25 if(label == -1)else label+200 for label in labels], c = [270 if(label == -1)else 70 for label in labels])\n",
        "  plt.title(title)\n",
        "  purple_patch = mpatches.Patch(color='purple', label='The purple data')\n",
        "  yellow_patch = mpatches.Patch(color='yellow', label='The yellow data')\n",
        "  plt.legend([purple_patch,yellow_patch], ['1', '-1'])\n",
        "  plt.show()\n",
        "\n",
        "#randomly dividing the data into training, validaation and test with 80%,20% respectively.  \n",
        "def get_train_test_data(features,labels):\n",
        "  training_data = []\n",
        "  training_labels = []\n",
        "  test_data = []\n",
        "  test_labels = []\n",
        "  training_percentage = 0\n",
        "  test_percentage = 0\n",
        "  rand_choice = 0\n",
        "  indices_list = [index for index in range(0,10000)]\n",
        "  while(len(indices_list) !=0):\n",
        "    rand_choice = np.random.choice(indices_list)\n",
        "    indices_list.remove(rand_choice)\n",
        "    training_percentage = int((len(training_data)/10000)*100)\n",
        "    test_percentage = int((len(test_data)/10000)*100)\n",
        "    training_filled = training_percentage == 80\n",
        "    if( training_filled or (test_percentage == 20)):\n",
        "      if(training_filled):\n",
        "        test_data.append(features[rand_choice])\n",
        "        test_labels.append(labels[rand_choice])\n",
        "      else:\n",
        "        training_data.append(features[rand_choice])\n",
        "        training_labels.append(labels[rand_choice])\n",
        "    elif (rand_choice %2 == 0):\n",
        "      training_data.append(features[rand_choice])\n",
        "      training_labels.append(labels[rand_choice])\n",
        "    else:\n",
        "      test_data.append(features[rand_choice])\n",
        "      test_labels.append(labels[rand_choice])\n",
        "\n",
        "  return np.array(training_data),np.array(training_labels),np.array(test_data),np.array(test_labels)\n",
        "\n",
        "#calculate the raw scores i.e w1*x1+w2*x2+...wn*xn + bias\n",
        "def raw_scores(data,weights,bias = None):\n",
        "  if(bias ==None):\n",
        "    bias = 0\n",
        "  raw_score_arr = np.array([np.sum(each_sample*weights) for each_sample in data])\n",
        "  return raw_score_arr+bias\n",
        "\n",
        "#calcuate cost for the current weight based on various parameters passed.\n",
        "def cost_function(data,labels,weights,regularization = False,const_lambda = 0.0001,bias = None):\n",
        "  len_data = len(data)\n",
        "  if (regularization):\n",
        "    reg_data = (const_lambda/2)*np.sum(weights ** 2) #FIXME\n",
        "  else:\n",
        "    reg_data = 0\n",
        "    \n",
        "  exponentiated_raw_scores = np.exp(-1*labels*(raw_scores(data,weights,bias))) \n",
        "  loss_without_regularization = np.log(1+exponentiated_raw_scores)\n",
        "  sum_loss = np.sum(loss_without_regularization)\n",
        "  cost = sum_loss/len_data\n",
        "  return reg_data+cost\n",
        "\n",
        "#calculates the gradient of the current weight to minimize the score.\n",
        "def calc_gradient(data,labels,weights,regularization = False,const_lambda = 0.0001,bias = None):\n",
        "  if(bias ==None):\n",
        "    bias =0\n",
        "  len_data = len(data)\n",
        "  if (regularization):\n",
        "    reg_data = const_lambda*weights \n",
        "  else:\n",
        "    reg_data = np.zeros(data.shape[1])\n",
        "  \n",
        "  gradient = 0\n",
        "  num = labels*data\n",
        "  den = 1+ np.exp(labels*((np.array([weights]*len(data)))*(data))+bias)\n",
        "  gradient = num/den\n",
        "  gradient_sum = np.sum(gradient)\n",
        "  return reg_data - (gradient_sum/len_data)\n",
        "\n",
        "#this function find the appropriate weight for the given data.\n",
        "def logistic_regression_PB(features,label,num_steps,learning_rate,regularization = False,const_lambda = 0.0001,bias = None):\n",
        "  weights = np.zeros(features.shape[1])\n",
        "  total_gradient = 0\n",
        "  labels_to_broadcast = np.array([np.array([lab,lab]) for lab in label])\n",
        "  for step in range(num_steps):\n",
        "    gradient = calc_gradient(features,labels_to_broadcast,weights,regularization,const_lambda,bias)\n",
        "\n",
        "    avg_gradient = np.mean(gradient,axis=0)\n",
        "\n",
        "    weights -=learning_rate*avg_gradient\n",
        "\n",
        "    if(step %1000 == 0):\n",
        "      print(cost_function(features,label,weights,regularization,const_lambda,bias),weights)\n",
        "\n",
        "  return weights\n",
        "\n",
        "# This function inializes the data required and plots them.\n",
        "def initialize_data():\n",
        "  features,labels = generate_data()\n",
        "  scatter_plot(features,labels,\"Initial data plot\")\n",
        "  training_data,training_labels,test_data,test_labels = get_train_test_data(features,labels)\n",
        "  scatter_plot(training_data,training_labels,\"Training data plot\")\n",
        "  scatter_plot(test_data,test_labels, \"Test data plot\")\n",
        "  return training_data,training_labels,test_data,test_labels\n",
        "\n",
        "#Prediction function\n",
        "def predict(weights,test_data,test_labels):\n",
        "  final_weights =  np.array([weights]*len(test_data))\n",
        "  preds = test_data*final_weights\n",
        "  predictions = np.array([f1+f2 for f1,f2 in preds])\n",
        "  predictions[predictions>=0.5] = 1\n",
        "  predictions[predictions<0.5] = -1\n",
        "  accuracy = 0\n",
        "  for ind,each_pred in enumerate(predictions):\n",
        "    if(test_labels[ind] == each_pred):\n",
        "      accuracy +=1\n",
        "  accuracy = (accuracy/len(test_data))*100\n",
        "  return predictions,accuracy\n",
        "\n",
        "#Confusion Matrix\n",
        "def compute_confusion_matrix(actual_data, prediction):\n",
        "    # Number of classes \n",
        "    len_mat = len(np.unique(actual_data)) \n",
        "    #result matrix\n",
        "    result = np.zeros((len_mat, len_mat),dtype=int) \n",
        "\n",
        "    for index in range(len(actual_data)):\n",
        "      if(actual_data[index] == 1):\n",
        "        ind1 = 0\n",
        "      elif(actual_data[index] == -1):\n",
        "        ind1 = 1\n",
        "      \n",
        "      if(prediction[index] == 1):\n",
        "        ind2 = 0\n",
        "      elif(prediction[index] == -1):\n",
        "        ind2 = 1\n",
        "      result[ind1][ind2] += 1\n",
        "\n",
        "    return result\n",
        "\n",
        "def print_confusion_mat(predictions):\n",
        "  conf_mat_in_count = compute_confusion_matrix(test_labels,predictions)\n",
        "  print(\"The confusion matrix in count is shown below\\n\")\n",
        "  for nums in [1,-1]:\n",
        "    print(f\"{nums:7d}\",end = \" \")\n",
        "  \n",
        "  sum_conf = defaultdict(lambda:0)\n",
        "  print(\"\\n_ _ _ _ _ _ _ _ _ _ _ _ _ _ _ _ _ _ _ _ _ _ _\\n\")\n",
        "  for ind1,each_col in enumerate(conf_mat_in_count):\n",
        "    for ind2, each_item in enumerate(each_col):\n",
        "      if(ind2 == 0):\n",
        "        print(f\"{1 if ind1 == 0 else -1:3d}\", end=\" \")\n",
        "        print(\"|\", end =\" \")\n",
        "      sum_conf[ind1] += each_item\n",
        "      print(f\"{each_item:3d}\", end=\" \")\n",
        "    print()\n",
        "\n",
        "  print(\"\\nThe Confusion matrix in percentage is shown below.\\n\")\n",
        "\n",
        "  for nums in [1,-1]:\n",
        "    print(f\"{nums:9d}\",end = \" \")\n",
        "  print(\"\\n   _ _ _ _ _ _ _ _ _ _ _ _ _ _ _ _ _ _ _ _ _ _ _ _ _ _ _ _ _ _ _ _ _ _\\n\")\n",
        "  for ind1,each_col in enumerate(conf_mat_in_count):\n",
        "    for ind2, each_item in enumerate(each_col):\n",
        "      if(ind2 == 0):\n",
        "        print(f\"{1 if ind1 == 0 else -1:5d}\", end=\" \")\n",
        "        print(\"|\", end =\" \")\n",
        "      temp = (each_item/sum_conf[ind1])*100\n",
        "      print(f\"{temp:5.2f}\", end=\" \")\n",
        "    print()\n"
      ],
      "execution_count": null,
      "outputs": []
    },
    {
      "cell_type": "markdown",
      "metadata": {
        "id": "uPThykPZ2VU2"
      },
      "source": [
        "#Initialize the data for training"
      ]
    },
    {
      "cell_type": "code",
      "metadata": {
        "colab": {
          "base_uri": "https://localhost:8080/",
          "height": 809
        },
        "id": "Z4n-Gce_2bGr",
        "outputId": "8477226f-077d-4f80-9504-8a0b4e38dcba"
      },
      "source": [
        "training_data,training_labels,test_data,test_labels = initialize_data()"
      ],
      "execution_count": null,
      "outputs": [
        {
          "output_type": "display_data",
          "data": {
            "image/png": "[encoded data removed]",
            "text/plain": [
              "<Figure size 432x288 with 1 Axes>"
            ]
          },
          "metadata": {
            "needs_background": "light"
          }
        },
        {
          "output_type": "display_data",
          "data": {
            "image/png": "[encoded data removed]",
            "text/plain": [
              "<Figure size 432x288 with 1 Axes>"
            ]
          },
          "metadata": {
            "needs_background": "light"
          }
        },
        {
          "output_type": "display_data",
          "data": {
            "image/png": "[encoded data removed]",
            "text/plain": [
              "<Figure size 432x288 with 1 Axes>"
            ]
          },
          "metadata": {
            "needs_background": "light"
          }
        }
      ]
    },
    {
      "cell_type": "markdown",
      "metadata": {
        "id": "07QK2AjHX-NV"
      },
      "source": [
        "#Calculate weights without any bias"
      ]
    },
    {
      "cell_type": "code",
      "metadata": {
        "colab": {
          "base_uri": "https://localhost:8080/"
        },
        "id": "2W3nPAlrXsBC",
        "outputId": "9f9f232b-e0d5-4cac-c34d-2da91d77abd1"
      },
      "source": [
        "weights_wo_bias = logistic_regression_PB(training_data,training_labels,20000,0.001)"
      ],
      "execution_count": null,
      "outputs": [
        {
          "output_type": "stream",
          "name": "stdout",
          "text": [
            "0.691591471875343 [0.00124854 0.00124854]\n",
            "0.4557072124987504 [0.51991274 0.51991274]\n",
            "0.4674112152582775 [0.65907383 0.65907383]\n",
            "0.4762892010782318 [0.71932859 0.71932859]\n",
            "0.481292462657235 [0.74888129 0.74888129]\n",
            "0.48402293466476803 [0.76412729 0.76412729]\n",
            "0.4855044897387537 [0.77218282 0.77218282]\n",
            "0.48630753815407957 [0.77649088 0.77649088]\n",
            "0.4867427736449743 [0.77880942 0.77880942]\n",
            "0.4869786788128823 [0.78006142 0.78006142]\n",
            "0.4871065526491449 [0.78073872 0.78073872]\n",
            "0.4871758707874995 [0.78110547 0.78110547]\n",
            "0.4872134480059297 [0.78130417 0.78130417]\n",
            "0.48723381887281675 [0.78141186 0.78141186]\n",
            "0.4872448621599712 [0.78147022 0.78147022]\n",
            "0.48725084888625375 [0.78150186 0.78150186]\n",
            "0.4872540943863895 [0.78151901 0.78151901]\n",
            "0.4872558538265855 [0.78152831 0.78152831]\n",
            "0.48725680764947493 [0.78153335 0.78153335]\n",
            "0.4872573247335489 [0.78153608 0.78153608]\n"
          ]
        }
      ]
    },
    {
      "cell_type": "markdown",
      "metadata": {
        "id": "4d12VmVQMHO_"
      },
      "source": [
        "#predict test data with weights calculated without bias"
      ]
    },
    {
      "cell_type": "code",
      "metadata": {
        "colab": {
          "base_uri": "https://localhost:8080/"
        },
        "id": "o_iCs7fNXr6Y",
        "outputId": "86e0e441-8dd1-4927-ba6b-bd82122a6caa"
      },
      "source": [
        "predictions_wo_bias,accuracy_wo_bias = predict(weights_wo_bias,test_data,test_labels)\n",
        "print(\"The Accuracy with weights calculated without bias is \",accuracy_wo_bias,\"%\")"
      ],
      "execution_count": null,
      "outputs": [
        {
          "output_type": "stream",
          "name": "stdout",
          "text": [
            "The Accuracy with weights calculated without bias is  80.45 %\n"
          ]
        }
      ]
    },
    {
      "cell_type": "markdown",
      "metadata": {
        "id": "NRmOok81YWz6"
      },
      "source": [
        "#show confusion matrix for predictions without bias"
      ]
    },
    {
      "cell_type": "code",
      "metadata": {
        "colab": {
          "base_uri": "https://localhost:8080/"
        },
        "id": "k1FPWzaKXryq",
        "outputId": "9e7de70c-a09b-46de-dc82-e4caefb6578f"
      },
      "source": [
        "print_confusion_mat(predictions_wo_bias)"
      ],
      "execution_count": null,
      "outputs": [
        {
          "output_type": "stream",
          "name": "stdout",
          "text": [
            "The confusion matrix in count is shown below\n",
            "\n",
            "      1      -1 \n",
            "_ _ _ _ _ _ _ _ _ _ _ _ _ _ _ _ _ _ _ _ _ _ _\n",
            "\n",
            "  1 | 983  15 \n",
            " -1 | 376 626 \n",
            "\n",
            "The Confusion matrix in percentage is shown below.\n",
            "\n",
            "        1        -1 \n",
            "   _ _ _ _ _ _ _ _ _ _ _ _ _ _ _ _ _ _ _ _ _ _ _ _ _ _ _ _ _ _ _ _ _ _\n",
            "\n",
            "    1 | 98.50  1.50 \n",
            "   -1 | 37.52 62.48 \n"
          ]
        }
      ]
    },
    {
      "cell_type": "markdown",
      "metadata": {
        "id": "drRs-d9vdSHj"
      },
      "source": [
        "#calculate weights with bias"
      ]
    },
    {
      "cell_type": "code",
      "metadata": {
        "colab": {
          "base_uri": "https://localhost:8080/"
        },
        "id": "TXBYanFPkkMr",
        "outputId": "e3442f05-7bbe-464b-ceba-0d4d0cff2fad"
      },
      "source": [
        "weights = logistic_regression_PB(features,labels,30000,0.001,regularization = False,const_lambda = -2,bias = 5.6)"
      ],
      "execution_count": null,
      "outputs": [
        {
          "output_type": "stream",
          "name": "stdout",
          "text": [
            "2.8036910778750914 [9.18919074e-06 9.18919074e-06]\n",
            "2.8037272343855038 [0.00902465 0.00902465]\n",
            "2.8037663798889025 [0.01770906 0.01770906]\n",
            "2.8038079608636703 [0.02608463 0.02608463]\n",
            "2.803851517018957 [0.03417135 0.03417135]\n",
            "2.803896663922876 [0.04198725 0.04198725]\n",
            "2.803943079246797 [0.04954872 0.04954872]\n",
            "2.803990491793107 [0.05687063 0.05687063]\n",
            "2.8040386726834234 [0.06396654 0.06396654]\n",
            "2.8040874282367594 [0.07084889 0.07084889]\n",
            "2.8041365941792327 [0.07752907 0.07752907]\n",
            "2.80418603091011 [0.08401753 0.08401753]\n",
            "2.8042356196112226 [0.09032396 0.09032396]\n",
            "2.804285259033802 [0.09645726 0.09645726]\n",
            "2.8043348628325244 [0.10242569 0.10242569]\n",
            "2.804384357343952 [0.10823693 0.10823693]\n",
            "2.804433679727728 [0.11389809 0.11389809]\n",
            "2.8044827764052584 [0.11941582 0.11941582]\n",
            "2.8045316017435127 [0.1247963 0.1247963]\n",
            "2.804580116941625 [0.13004533 0.13004533]\n",
            "2.804628289085996 [0.13516831 0.13516831]\n",
            "2.80467609034592 [0.14017033 0.14017033]\n",
            "2.80472349728685 [0.14505615 0.14505615]\n",
            "2.8047704902824924 [0.14983026 0.14983026]\n",
            "2.80481705301019 [0.15449688 0.15449688]\n",
            "2.804863172016727 [0.15905998 0.15905998]\n",
            "2.8049088363438814 [0.16352332 0.16352332]\n",
            "2.8049540372047654 [0.16789045 0.16789045]\n",
            "2.8049987677035073 [0.17216472 0.17216472]\n",
            "2.80504302259199 [0.17634932 0.17634932]\n"
          ]
        }
      ]
    },
    {
      "cell_type": "markdown",
      "metadata": {
        "id": "15SBVsp6yIUi"
      },
      "source": [
        "#Predict the test data with weights calculated with bias"
      ]
    },
    {
      "cell_type": "code",
      "metadata": {
        "colab": {
          "base_uri": "https://localhost:8080/"
        },
        "id": "vri4s0kXMGbS",
        "outputId": "42953da1-28ff-4faa-9128-c2e95123eb5e"
      },
      "source": [
        "predictions,accuracy = predict(weights,test_data,test_labels)\n",
        "print(\"The Accuracy with weights calculated without bias is \",accuracy,\"%\")"
      ],
      "execution_count": null,
      "outputs": [
        {
          "output_type": "stream",
          "name": "stdout",
          "text": [
            "The Accuracy with weights calculated without bias is  90.25 %\n"
          ]
        }
      ]
    },
    {
      "cell_type": "markdown",
      "metadata": {
        "id": "2deMV-L3yQ-z"
      },
      "source": [
        "#Confusion Matrix for predictions calculated with bias"
      ]
    },
    {
      "cell_type": "code",
      "metadata": {
        "id": "YzMn2dPVMFjV",
        "colab": {
          "base_uri": "https://localhost:8080/"
        },
        "outputId": "f2988659-2359-4e47-df18-5170ae24244f"
      },
      "source": [
        "print_confusion_mat(predictions)"
      ],
      "execution_count": null,
      "outputs": [
        {
          "output_type": "stream",
          "name": "stdout",
          "text": [
            "The confusion matrix in count is shown below\n",
            "\n",
            "      1      -1 \n",
            "_ _ _ _ _ _ _ _ _ _ _ _ _ _ _ _ _ _ _ _ _ _ _\n",
            "\n",
            "  1 | 879 119 \n",
            " -1 |  76 926 \n",
            "\n",
            "The Confusion matrix in percentage is shown below.\n",
            "\n",
            "        1        -1 \n",
            "   _ _ _ _ _ _ _ _ _ _ _ _ _ _ _ _ _ _ _ _ _ _ _ _ _ _ _ _ _ _ _ _ _ _\n",
            "\n",
            "    1 | 88.08 11.92 \n",
            "   -1 |  7.58 92.42 \n"
          ]
        }
      ]
    },
    {
      "cell_type": "markdown",
      "metadata": {
        "id": "GhwrxKM2_Mfd"
      },
      "source": [
        "#The final weights,intercepts and accuracy of algortihm is shown below:"
      ]
    },
    {
      "cell_type": "code",
      "metadata": {
        "colab": {
          "base_uri": "https://localhost:8080/"
        },
        "id": "WXhwM6IW_a2b",
        "outputId": "85b82b95-a1a8-4a06-f902-7998d6b81348"
      },
      "source": [
        "print(\"Algorithm without Bias:::\")\n",
        "print(\"  weights: \",weights_wo_bias)\n",
        "print(\"  Accuracy\",accuracy_wo_bias)\n",
        "print(\"\\n--------------------------------\\n\")\n",
        "print(\"Algorithm considering bias:::\")\n",
        "print(\"  weights: \",weights)\n",
        "print(\"  bias\",5.6)\n",
        "print(\"  Accuracy\",accuracy)"
      ],
      "execution_count": null,
      "outputs": [
        {
          "output_type": "stream",
          "name": "stdout",
          "text": [
            "Algorithm without Bias:::\n",
            "  weights:  [0.78153756 0.78153756]\n",
            "  Accuracy 80.45\n",
            "\n",
            "--------------------------------\n",
            "\n",
            "Algorithm considering bias:::\n",
            "  weights:  [0.1804432 0.1804432]\n",
            "  bias 5.6\n",
            "  Accuracy 90.25\n"
          ]
        }
      ]
    },
    {
      "cell_type": "markdown",
      "metadata": {
        "id": "fNycWwitkmAf"
      },
      "source": [
        "#Scikit learn comparision"
      ]
    },
    {
      "cell_type": "code",
      "metadata": {
        "id": "LJgAKSBKkkSW",
        "colab": {
          "base_uri": "https://localhost:8080/"
        },
        "outputId": "6aba25b9-7423-4d8e-98b1-7244562bd10e"
      },
      "source": [
        "\n",
        "\n",
        "# Create an instance and fit the model \n",
        "lr_model = LogisticRegression()\n",
        "lr_model.fit(training_data, training_labels)\n",
        "\n",
        "# Making predictions\n",
        "y_pred_sk = lr_model.predict(test_data)\n",
        "\n",
        "# Accuracy\n",
        "print(f\"Accuracy = {lr_model.score(test_data, test_labels)*100}\")\n"
      ],
      "execution_count": null,
      "outputs": [
        {
          "output_type": "stream",
          "name": "stdout",
          "text": [
            "{'C': 1.0, 'class_weight': None, 'dual': False, 'fit_intercept': True, 'intercept_scaling': 1, 'l1_ratio': None, 'max_iter': 100, 'multi_class': 'auto', 'n_jobs': None, 'penalty': 'l2', 'random_state': None, 'solver': 'lbfgs', 'tol': 0.0001, 'verbose': 0, 'warm_start': False}\n",
            "Accuracy = 99.5\n"
          ]
        }
      ]
    },
    {
      "cell_type": "markdown",
      "metadata": {
        "id": "VXhU9oax978v"
      },
      "source": [
        "#Comments on Assignment Implementation:\n",
        "  The most difficult part of the assignment was to understand what each term signifies and how they would be calculated based on the formula, once that part became clear, the implementation was simple.\n",
        "\n",
        "  The bias inclusion has improved the algorithm's accuracy to upto 10%."
      ]
    }
  ]
}